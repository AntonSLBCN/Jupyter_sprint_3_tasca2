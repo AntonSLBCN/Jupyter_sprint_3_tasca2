{
 "cells": [
  {
   "cell_type": "markdown",
   "metadata": {},
   "source": [
    "# Tasca2_Exercici 1"
   ]
  },
  {
   "cell_type": "markdown",
   "metadata": {},
   "source": [
    "Crea una llista que agrupi els mesos de l’any en trimestres (1T: Gener, Febrer i Març, 2T: Abril, Maig, Juny...), és a dir, una llista amb 4 llistes din"
   ]
  },
  {
   "cell_type": "code",
   "execution_count": 2,
   "metadata": {},
   "outputs": [
    {
     "name": "stdout",
     "output_type": "stream",
     "text": [
      "['Gener', 'Febrer', 'Març', 'Abril', 'Maig', 'Juny', 'Juliol', 'agost', 'setembre', 'Octubre', 'Novembre', 'Desembre']\n"
     ]
    }
   ],
   "source": [
    "#una maera\n",
    "llist_t1 = [\"Gener\" , \"Febrer\" , \"Març\"]\n",
    "llist_t2 = [\"Abril\" , \"Maig\", \"Juny\"]\n",
    "llist_t3 = [\"Juliol\" , \"agost\" , \"setembre\"]\n",
    "llist_t4 = [\"Octubre\" , \"Novembre\" , \"Desembre\"]\n",
    "\n",
    "llist_any = llist_t1 + llist_t2 + llist_t3 + llist_t4\n",
    "\n",
    "print(llist_any)\n"
   ]
  },
  {
   "cell_type": "code",
   "execution_count": 3,
   "metadata": {},
   "outputs": [
    {
     "name": "stdout",
     "output_type": "stream",
     "text": [
      "['Gener', 'Febrer', 'Març', 'Abril', 'Maig', 'Juny', 'Juliol', 'agost', 'setembre', 'Octubre', 'Novembre', 'Desembre']\n",
      "Abril\n"
     ]
    }
   ],
   "source": [
    "#Manera dos\n",
    "llist_any2 = []\n",
    "\n",
    "llist_any2.extend(llist_t1)\n",
    "llist_any2.extend(llist_t2)\n",
    "llist_any2.extend(llist_t3)\n",
    "llist_any2.extend(llist_t4)\n",
    "\n",
    "print(llist_any2)\n",
    "print(llist_any2[3])\n"
   ]
  },
  {
   "cell_type": "code",
   "execution_count": 4,
   "metadata": {},
   "outputs": [
    {
     "name": "stdout",
     "output_type": "stream",
     "text": [
      "['Gener', 'Febrer', 'Març', 'Abril', 'Maig', 'Juny', 'Juliol', 'agost', 'setembre', 'Octubre', 'Novembre', 'Desembre']\n"
     ]
    }
   ],
   "source": [
    "#Manera3\n",
    "llist_any3 = []\n",
    "\n",
    "for num in range(len(llist_any)):\n",
    "    llist_any3.append(llist_any[num])\n",
    "      \n",
    "print(llist_any3)\n",
    "    \n",
    "    "
   ]
  },
  {
   "cell_type": "markdown",
   "metadata": {},
   "source": [
    "# Tasca2_Exercici2"
   ]
  },
  {
   "cell_type": "markdown",
   "metadata": {},
   "source": [
    "Crea un codi que et permeti accedir a:"
   ]
  },
  {
   "cell_type": "markdown",
   "metadata": {},
   "source": [
    "*El segon més del primer trimestre"
   ]
  },
  {
   "cell_type": "code",
   "execution_count": 5,
   "metadata": {
    "scrolled": true
   },
   "outputs": [
    {
     "name": "stdout",
     "output_type": "stream",
     "text": [
      "Febrer\n",
      "Febrer\n"
     ]
    }
   ],
   "source": [
    "print (llist_t1[1])\n",
    "print(llist_any[1])"
   ]
  },
  {
   "cell_type": "markdown",
   "metadata": {},
   "source": [
    "*Els mesos del primer trimestre"
   ]
  },
  {
   "cell_type": "code",
   "execution_count": 6,
   "metadata": {},
   "outputs": [
    {
     "name": "stdout",
     "output_type": "stream",
     "text": [
      "['Gener', 'Febrer', 'Març']\n"
     ]
    }
   ],
   "source": [
    "print(llist_any[:3])"
   ]
  },
  {
   "cell_type": "markdown",
   "metadata": {},
   "source": [
    "*Setembre i octubre"
   ]
  },
  {
   "cell_type": "code",
   "execution_count": 7,
   "metadata": {},
   "outputs": [
    {
     "name": "stdout",
     "output_type": "stream",
     "text": [
      "['setembre', 'Octubre']\n"
     ]
    }
   ],
   "source": [
    "print(llist_any[-4:-2])"
   ]
  },
  {
   "cell_type": "code",
   "execution_count": 8,
   "metadata": {},
   "outputs": [
    {
     "name": "stdout",
     "output_type": "stream",
     "text": [
      "['setembre', 'Octubre']\n"
     ]
    }
   ],
   "source": [
    "print(llist_any[8:-2])"
   ]
  },
  {
   "cell_type": "markdown",
   "metadata": {},
   "source": [
    "# Tasca2_Exercici3"
   ]
  },
  {
   "cell_type": "markdown",
   "metadata": {},
   "source": [
    "Crea una llista amb nombres desordenats i respon a les següents preguntes:"
   ]
  },
  {
   "cell_type": "code",
   "execution_count": 9,
   "metadata": {},
   "outputs": [
    {
     "name": "stdout",
     "output_type": "stream",
     "text": [
      "[1, 8, 4, 3, 6, 3, 1, 5, 6, 3]\n"
     ]
    }
   ],
   "source": [
    "import random as rd\n",
    "llista = []\n",
    "\n",
    "for i in range(0,10):\n",
    "    llista.append(rd.randint(1,10))\n",
    "print(llista)\n"
   ]
  },
  {
   "cell_type": "markdown",
   "metadata": {},
   "source": [
    "Quants números hi ha?"
   ]
  },
  {
   "cell_type": "markdown",
   "metadata": {},
   "source": [
    "a \"llista\" hi ha 10 numeros perqué així ho he fixat al for with \"range(0,10). He fer servir randint, per treballar amb interger"
   ]
  },
  {
   "cell_type": "markdown",
   "metadata": {},
   "source": [
    "Quantes vegades apareix el número 3"
   ]
  },
  {
   "cell_type": "code",
   "execution_count": 10,
   "metadata": {},
   "outputs": [
    {
     "name": "stdout",
     "output_type": "stream",
     "text": [
      "el tres apareix = 1 vegades\n",
      "el tres apareix = 2 vegades\n",
      "el tres apareix = 3 vegades\n"
     ]
    }
   ],
   "source": [
    "x = 0\n",
    "for i in range(0,len(llista)):\n",
    "    if llista[i] == 3:\n",
    "        x = x + 1 \n",
    "        print('el tres apareix =' , x , 'vegades')\n"
   ]
  },
  {
   "cell_type": "code",
   "execution_count": 11,
   "metadata": {},
   "outputs": [],
   "source": [
    "#En funcion del tipo la lista creada, nos dará el resultado.... "
   ]
  },
  {
   "cell_type": "markdown",
   "metadata": {},
   "source": [
    "Quantes vegades apareixen els nombres 3 i 4?"
   ]
  },
  {
   "cell_type": "code",
   "execution_count": 12,
   "metadata": {},
   "outputs": [
    {
     "name": "stdout",
     "output_type": "stream",
     "text": [
      "el 3 i el quatre hi apareixen 4 vegades\n"
     ]
    }
   ],
   "source": [
    "x = llista.count(3)\n",
    "y = llista.count(4)\n",
    "print('el 3 i el quatre hi apareixen' , x + y , 'vegades')"
   ]
  },
  {
   "cell_type": "markdown",
   "metadata": {},
   "source": [
    "Quin és el número més gran?"
   ]
  },
  {
   "cell_type": "code",
   "execution_count": 13,
   "metadata": {},
   "outputs": [
    {
     "name": "stdout",
     "output_type": "stream",
     "text": [
      "El numero mes gran es 8\n"
     ]
    }
   ],
   "source": [
    "print('El numero mes gran es' , max(llista))"
   ]
  },
  {
   "cell_type": "markdown",
   "metadata": {},
   "source": [
    "Quins són els 3 números més petits?"
   ]
  },
  {
   "cell_type": "code",
   "execution_count": 14,
   "metadata": {},
   "outputs": [
    {
     "name": "stdout",
     "output_type": "stream",
     "text": [
      "[1, 1, 3]\n"
     ]
    }
   ],
   "source": [
    "llista.sort()\n",
    "print(llista[:3])"
   ]
  },
  {
   "cell_type": "markdown",
   "metadata": {},
   "source": [
    "Quin és el rango d’aquesta llista?"
   ]
  },
  {
   "cell_type": "code",
   "execution_count": 15,
   "metadata": {},
   "outputs": [
    {
     "name": "stdout",
     "output_type": "stream",
     "text": [
      "El rango mas grande es 10\n"
     ]
    }
   ],
   "source": [
    "print('El rango mas grande es', len(llista))"
   ]
  },
  {
   "cell_type": "markdown",
   "metadata": {},
   "source": [
    "# Tasca2_Exercici4"
   ]
  },
  {
   "cell_type": "code",
   "execution_count": 16,
   "metadata": {},
   "outputs": [],
   "source": [
    "compra = { \"Pomes\" : {\"Qty\": 5, \"€\": 0.42}, \"Peres\" : {\"Qty\": 3, \"€\": 0.66} }"
   ]
  },
  {
   "cell_type": "markdown",
   "metadata": {},
   "source": [
    "Afegeix alguna fruita més"
   ]
  },
  {
   "cell_type": "code",
   "execution_count": 17,
   "metadata": {},
   "outputs": [
    {
     "name": "stdout",
     "output_type": "stream",
     "text": [
      "{'Pomes': {'Qty': 5, '€': 0.42}, 'Peres': {'Qty': 3, '€': 0.66}, 'Melo': {'Qty': 5, '€': 0.42}}\n"
     ]
    }
   ],
   "source": [
    "compra1 ={\"Melo\" : { \"Qty\" : 5 , \"€\": 0.42 } }\n",
    "compra.update(compra1)\n",
    "print(compra)"
   ]
  },
  {
   "cell_type": "markdown",
   "metadata": {},
   "source": [
    "Quan han costat les peres en total?"
   ]
  },
  {
   "cell_type": "code",
   "execution_count": 18,
   "metadata": {
    "scrolled": true
   },
   "outputs": [
    {
     "name": "stdout",
     "output_type": "stream",
     "text": [
      "el total de les peres han estat  1.98 euros\n"
     ]
    }
   ],
   "source": [
    "Q = compra[\"Peres\"][\"Qty\"] \n",
    "E = compra[\"Peres\"][\"€\"] \n",
    "print('el total de les peres han estat ', Q * E,'euros')\n"
   ]
  },
  {
   "cell_type": "markdown",
   "metadata": {},
   "source": [
    "Quantes fruites hem comprat en total?"
   ]
  },
  {
   "cell_type": "code",
   "execution_count": 19,
   "metadata": {},
   "outputs": [
    {
     "name": "stdout",
     "output_type": "stream",
     "text": [
      "Hem comprat  13   peces\n"
     ]
    }
   ],
   "source": [
    "x = 0\n",
    "for Preu in compra.keys():\n",
    "    y = compra[Preu][\"Qty\"]\n",
    "    x = x + y\n",
    "    \n",
    "\n",
    "print('Hem comprat ', x, '  peces')"
   ]
  },
  {
   "cell_type": "markdown",
   "metadata": {},
   "source": [
    "Quina és la fruita més cara?"
   ]
  },
  {
   "cell_type": "code",
   "execution_count": 101,
   "metadata": {},
   "outputs": [
    {
     "name": "stdout",
     "output_type": "stream",
     "text": [
      "la fruita més cara són:  Peres  a un cost de  0.66\n"
     ]
    }
   ],
   "source": [
    "mydict = compra\n",
    "myprice = 0.00\n",
    "myfinalprice = 0.00\n",
    "for k1, v1 in mydict.items():\n",
    "    for k2 in v1:\n",
    "        if k2 == \"€\":\n",
    "            myprice = v1[\"€\"]\n",
    "            if myprice> myfinalprice:\n",
    "                myfinalprice = myprice\n",
    "                myfruit = k1\n",
    "\n",
    "print('la fruita més cara són: ', myfruit,' a un cost de ' ,myfinalprice)"
   ]
  },
  {
   "cell_type": "code",
   "execution_count": null,
   "metadata": {},
   "outputs": [],
   "source": []
  }
 ],
 "metadata": {
  "kernelspec": {
   "display_name": "Python 3",
   "language": "python",
   "name": "python3"
  },
  "language_info": {
   "codemirror_mode": {
    "name": "ipython",
    "version": 3
   },
   "file_extension": ".py",
   "mimetype": "text/x-python",
   "name": "python",
   "nbconvert_exporter": "python",
   "pygments_lexer": "ipython3",
   "version": "3.8.5"
  }
 },
 "nbformat": 4,
 "nbformat_minor": 4
}
